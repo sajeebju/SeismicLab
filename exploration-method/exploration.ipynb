{
 "cells": [
  {
   "cell_type": "markdown",
   "metadata": {},
   "source": [
    "## Homework 1"
   ]
  },
  {
   "cell_type": "code",
   "execution_count": 75,
   "metadata": {},
   "outputs": [],
   "source": [
    "def bulk_modulus(youngs_modulus, poissons_ratio):\n",
    "    K = youngs_modulus / (3 * (1 - 2 * poissons_ratio))\n",
    "    return K\n"
   ]
  },
  {
   "cell_type": "code",
   "execution_count": 76,
   "metadata": {},
   "outputs": [],
   "source": [
    "def shear_modulus(youngs_modulus, poissons_ratio):\n",
    "    G = youngs_modulus / (2 * (1 + poissons_ratio))\n",
    "    return G"
   ]
  },
  {
   "cell_type": "code",
   "execution_count": 77,
   "metadata": {},
   "outputs": [],
   "source": [
    "def get_vp(youngs_modulus, poissons_ratio, density):\n",
    "           vp = np.sqrt(((1 - poissons_ratio)*youngs_modulus)/((1-2*poissons_ratio)*(1+poissons_ratio)*density))\n",
    "           return vp "
   ]
  },
  {
   "cell_type": "code",
   "execution_count": 78,
   "metadata": {},
   "outputs": [],
   "source": [
    "def get_vs(youngs_modulus, poissons_ratio, density):\n",
    "    vpvs = np.sqrt((1 - poissons_ratio) / (0.5 - poissons_ratio))\n",
    "    vs = get_vp(youngs_modulus, poissons_ratio, density) / vpvs\n",
    "    return vs\n"
   ]
  },
  {
   "cell_type": "code",
   "execution_count": 79,
   "metadata": {},
   "outputs": [],
   "source": [
    "def wave_length(velocity, frequency1, frequency2, ):\n",
    "    wl1 = velocity / frequency1\n",
    "    wl2 = velocity / frequency2\n",
    "    return wl1, wl2"
   ]
  },
  {
   "cell_type": "code",
   "execution_count": 80,
   "metadata": {},
   "outputs": [],
   "source": [
    "import matplotlib.pyplot as plt\n",
    "def plot_wave_data(distances, time_air, time_pwave, time_swave, time_rwave):\n",
    "    plt.figure(figsize=(10, 6))\n",
    "    plt.plot(distances, time_air, label='Air Wave', marker='o')\n",
    "    plt.plot(distances, time_pwave, label='P-Wave', marker='o')\n",
    "    plt.plot(distances, time_swave, label='S-Wave', marker='o')\n",
    "    plt.plot(distances, time_rwave, label='Rayleigh Wave', marker='o')\n",
    "\n",
    "    plt.xlabel('Geophone Position (m)')\n",
    "    plt.ylabel('Time of Arrival (s)')\n",
    "    plt.title('Time of Arrival vs Geophone Position')\n",
    "    plt.legend()\n",
    "    plt.grid(True)\n",
    "    plt.show()"
   ]
  },
  {
   "cell_type": "code",
   "execution_count": 82,
   "metadata": {},
   "outputs": [
    {
     "name": "stdout",
     "output_type": "stream",
     "text": [
      "Rock Type :  ['Shale (AZ)', 'Siltstone (CO)', 'Limestone (PA)', 'Limestone (AZ)', 'Quartzite (MT)', 'Sandstone (WY)', 'Slate (MA)', 'Schist (MA)', 'Schist (CO)', 'Gneiss (MA)', 'Marble (MD)', 'Marble (VT)', 'Granite (MA)', 'Granite (MA)', 'Gabbro (PA)', 'Diabase (ME)', 'Bsalt (OR)', 'Andesite (ID)', 'Tuff (OR)']\n",
      "Bulk_Modulus :  [4.34782609e+09 5.70175439e+09 1.63275194e+10 8.85416667e+09\n",
      " 2.75324675e+10 5.30303030e+09 2.10822511e+10 2.84221526e+10\n",
      " 3.77777778e+10 1.20056497e+10 5.19565217e+10 1.59238626e+10\n",
      " 1.55805243e+10 1.46039604e+10 3.58481262e+10 7.42358079e+10\n",
      " 3.75000000e+10 2.81250000e+10 5.98290598e+08]\n",
      "Shear_Modulus :  [5.76923077e+09 5.80357143e+09 1.45761246e+10 7.20338983e+09\n",
      " 2.85201794e+10 6.60377358e+09 2.18385650e+10 2.30313294e+10\n",
      " 2.83333333e+10 1.11256545e+10 2.82283465e+10 1.50306748e+10\n",
      " 1.97156398e+10 1.61496350e+10 3.12822719e+10 4.01258851e+10\n",
      " 2.58196721e+10 2.28813559e+10 6.30630631e+08]\n",
      "Vp(m/s) [2123.5379442  2318.6073082  3632.69044962 2750.46094801 4964.51215762\n",
      " 2487.5181168  4336.08402089 4679.76699863 5289.94698411 3188.51250415\n",
      " 5587.2651683  3642.95622103 3967.35002236 3692.76738848 5042.69711073\n",
      " 6569.1999398  5123.51917393 4776.46119498  996.24517102]\n",
      "Vs(m/s) [1469.95258009 1523.62350055 2319.19032247 1718.19933271 3274.42696428\n",
      " 1701.87893906 2859.93668393 2920.63725808 3239.41771936 2052.86703158\n",
      " 3136.1857066  2355.07419886 2722.47950692 2468.64373707 3202.57437149\n",
      " 3681.85310321 3069.72930469 2983.83165334  659.48288552]\n"
     ]
    }
   ],
   "source": [
    "#driver code\n",
    "# question 1\n",
    "import numpy as np\n",
    "\n",
    "# dataset\n",
    "Rock_Type = [\"Shale (AZ)\", \"Siltstone (CO)\", \"Limestone (PA)\", \"Limestone (AZ)\", \"Quartzite (MT)\", \"Sandstone (WY)\",\n",
    "                \"Slate (MA)\", \"Schist (MA)\", \"Schist (CO)\", \"Gneiss (MA)\", \"Marble (MD)\", \"Marble (VT)\", \"Granite (MA)\", \"Granite (MA)\",\n",
    "                \"Gabbro (PA)\", \"Diabase (ME)\", \"Bsalt (OR)\", \"Andesite (ID)\", \"Tuff (OR)\"]\n",
    "density = np.array([2.67, 2.50, 2.71, 2.44, 2.66, 2.28, 2.67, 2.70, 2.70, 2.64, 2.87, 2.71, 2.66, 2.65, 3.05, 2.96, 2.74, 2.57, 1.45])\n",
    "youngs_modulus = np.array([0.120, 0.130, 0.337, 0.170, 0.636, 0.140, 0.487, 0.544, 0.680, 0.255, 0.717, 0.343, 0.416, 0.354, 0.727, 1.020, 0.630, 0.540, 0.014])\n",
    "poissons_ratio = np.array([0.040, 0.120, 0.156, 0.180, 0.115, 0.060, 0.115, 0.181, 0.200, 0.146, 0.270, 0.141, 0.055, 0.096, 0.162, 0.271, 0.220, 0.180, 0.110])\n",
    "\n",
    "# Bulk MOdulus\n",
    "E1 = youngs_modulus * 10**11\n",
    "nu1 = poissons_ratio\n",
    "rho1 = density * 10**3\n",
    "\n",
    "K1 = bulk_modulus(E1, nu1)\n",
    "G1 = shear_modulus(E1, nu1)\n",
    "Vp1 = get_vp(E1, nu1, rho1)\n",
    "Vs1 = get_vs(E1, nu1, rho1)\n",
    "\n",
    "print(\"Rock Type : \", Rock_Type)\n",
    "print(\"Bulk_Modulus : \", K1)\n",
    "print(\"Shear_Modulus : \", G1)\n",
    "print(\"Vp(m/s)\", Vp1)\n",
    "print(\"Vs(m/s)\", Vs1)\n",
    "\n"
   ]
  },
  {
   "cell_type": "code",
   "execution_count": 83,
   "metadata": {},
   "outputs": [],
   "source": [
    "#make dataframe for question 1\n",
    "import pandas as pd\n",
    "# df = pd.DataFrame({\"Rock Type\" : Rock_Type, \"Bulk_Modulus\" : K1, \"Shear_Modulus\" : G1, \"Vp(m/s)\" : Vp1, \"Vs(m/s)\" : Vs1})\n",
    "# df"
   ]
  },
  {
   "cell_type": "code",
   "execution_count": 56,
   "metadata": {},
   "outputs": [
    {
     "name": "stdout",
     "output_type": "stream",
     "text": [
      "Answer: 2\n",
      "Wavelength for frequency 10 Hz is = 140.0 m\n",
      "Wavelength for frequency 100 Hz is = 14.0 m\n"
     ]
    }
   ],
   "source": [
    "# question 2\n",
    "print(\"Answer: 2\")\n",
    "velocity2 = 1400  \n",
    "frequency1 = 10 \n",
    "frequency2 = 100\n",
    "wl1 = velocity2 / frequency1\n",
    "wl2 = velocity2 / frequency2\n",
    "wave_length1, wave_length2 = wave_length(velocity2, frequency1, frequency2)\n",
    "print(\"Wavelength for frequency 10 Hz is = \" + str(wave_length1) + \" m\")\n",
    "print(\"Wavelength for frequency 100 Hz is = \" + str(wave_length2) + \" m\")"
   ]
  },
  {
   "cell_type": "code",
   "execution_count": 58,
   "metadata": {},
   "outputs": [
    {
     "name": "stdout",
     "output_type": "stream",
     "text": [
      "Answer: 3\n",
      "Wavelength for frequency 10 Hz through bedrock is = 450.0 m\n",
      "Wavelength for frequency 100 Hz through bedrock is = 45.0 m\n"
     ]
    }
   ],
   "source": [
    "# question 3\n",
    "print(\"Answer: 3\")\n",
    "velocity_bedrock = 4500 \n",
    "frequency_bedrock1 = 10  \n",
    "frequency_bedrock2 = 100  \n",
    "wave_length1_bedrock, wave_length2_bedrock = wave_length(velocity_bedrock, frequency_bedrock1, frequency_bedrock2)\n",
    "print(\"Wavelength for frequency 10 Hz through bedrock is = \" + str(wave_length1_bedrock) + \" m\")\n",
    "print(\"Wavelength for frequency 100 Hz through bedrock is = \" + str(wave_length2_bedrock) + \" m\")"
   ]
  },
  {
   "cell_type": "code",
   "execution_count": 59,
   "metadata": {},
   "outputs": [
    {
     "name": "stdout",
     "output_type": "stream",
     "text": [
      "Answer: 4\n",
      "Velocity of compressional wave through homogeneous rock layer is = 3926.74 m/s\n"
     ]
    }
   ],
   "source": [
    "# question 4\n",
    "print(\"Answer: 4\")\n",
    "rho4 = 2.60  \n",
    "rho4 = rho4 * 1000 \n",
    "E4 = 0.39 * 1e11  \n",
    "nu4 = 0.11 \n",
    "K4 = bulk_modulus(E4, nu4)\n",
    "G4 = shear_modulus(E4, nu4)\n",
    "vp4 = get_vp(E4, nu4, rho4)\n",
    "print(\"Velocity of compressional wave through homogeneous rock layer is = {:.2f} m/s\".format(vp4))"
   ]
  },
  {
   "cell_type": "code",
   "execution_count": 60,
   "metadata": {},
   "outputs": [
    {
     "name": "stdout",
     "output_type": "stream",
     "text": [
      "Answer: 5\n",
      "velocity of a shear wave in a homogeneous rock layer is = 1226.78 m/s\n"
     ]
    }
   ],
   "source": [
    "# question 5\n",
    "print(\"Answer: 5\")\n",
    "rho5 = 2.04 * 1000\n",
    "E5 = 0.07 * 1e11\n",
    "nu5 = 0.14\n",
    "vs5 = get_vs(E5, nu5, rho5)\n",
    "print(\"velocity of a shear wave in a homogeneous rock layer is = {:.2f} m/s\".format(vs5))"
   ]
  },
  {
   "cell_type": "code",
   "execution_count": 62,
   "metadata": {},
   "outputs": [
    {
     "name": "stdout",
     "output_type": "stream",
     "text": [
      "Answer: 6\n",
      "velocity of Rayleigh waves in a homogeneous rock layer is = 1392.72 m/s\n"
     ]
    }
   ],
   "source": [
    "# question 6\n",
    "print(\"Answer: 6\")\n",
    "rho6 = 2.52 * 1000\n",
    "E6 = 0.14 * 1e11\n",
    "nu6 = 0.16\n",
    "vs6 = get_vs(E6, nu6, rho6)\n",
    "vr6 = 0.9 * vs6\n",
    "print(\"velocity of Rayleigh waves in a homogeneous rock layer is = {:.2f} m/s\".format(vr6))"
   ]
  },
  {
   "cell_type": "code",
   "execution_count": 74,
   "metadata": {},
   "outputs": [
    {
     "name": "stdout",
     "output_type": "stream",
     "text": [
      "Answer: 7\n",
      "Variations in Young's modulus have the greatest effect on P-wave velocities\n",
      "Young's Modulus Variations = 4605.62 m/s\n",
      "Poisson's Ratio Variations = 783.27 m/s\n",
      "Density Variations = 1050.67 m/s\n"
     ]
    }
   ],
   "source": [
    "# question 7\n",
    "print(\"Answer: 7\")\n",
    "rho7_min = 2.0 * 1000  \n",
    "rho7_max = 3.0 * 1000  \n",
    "rho7_avg = (rho7_min + rho7_max) / 2\n",
    "\n",
    "E7_min = 0.12 * 1e11  \n",
    "E7_max = 1.1 * 1e11 \n",
    "E7_avg = (E7_min + E7_max) / 2\n",
    "\n",
    "nu7_min = 0.04 \n",
    "nu7_max = 0.3 \n",
    "nu7_avg = (nu7_min + nu7_max) / 2\n",
    "\n",
    "vp_rho_min = get_vp(E7_avg, nu7_avg, rho7_min) \n",
    "vp_rho_max =  get_vp(E7_avg, nu7_avg, rho7_max) \n",
    "\n",
    "vp_E_min = get_vp(E7_min, nu7_avg, rho7_avg)\n",
    "vp_E_max = get_vp(E7_max, nu7_avg, rho7_avg)\n",
    "\n",
    "vp_nu_min = get_vp(E7_avg, nu7_min, rho7_avg)\n",
    "vp_nu_max = get_vp(E7_avg, nu7_max, rho7_avg)\n",
    "\n",
    "diff_rho = abs(vp_rho_max - vp_rho_min)\n",
    "diff_E = abs(vp_E_max - vp_E_min)\n",
    "diff_nu = abs(vp_nu_max - vp_nu_min)\n",
    "\n",
    "if diff_rho > diff_E and diff_rho > diff_nu:\n",
    "    print(\"Variations in density have the greatest effect on P-wave velocities\")\n",
    "elif diff_E > diff_rho and diff_E > diff_nu:\n",
    "    print(\"Variations in Young's modulus have the greatest effect on P-wave velocities\")\n",
    "else:\n",
    "    print(\"Variations in Poisson's ratios have the greatest effect on P-wave velocities\")\n",
    "\n",
    "variations = {\"Young's Modulus Variations\" : diff_E,\n",
    "              \"Poisson's Ratio Variations\" : diff_nu,\n",
    "              \"Density Variations\" : diff_rho\n",
    "             }\n",
    "for key, val in variations.items():\n",
    "    print(f\"{key} = {val:.2f} m/s\")\n",
    "    "
   ]
  },
  {
   "cell_type": "code",
   "execution_count": null,
   "metadata": {},
   "outputs": [],
   "source": []
  },
  {
   "cell_type": "code",
   "execution_count": 65,
   "metadata": {},
   "outputs": [
    {
     "name": "stdout",
     "output_type": "stream",
     "text": [
      "Answer : 8\n",
      "Time travel for the air wave = 0.146 s\n",
      "Time trael for the direct compressional wave = 0.020 s\n",
      "Time travel for the surface (Rayleigh) wave = 0.033 s\n"
     ]
    }
   ],
   "source": [
    "# question 8\n",
    "print(\"Answer : 8\")\n",
    "distance8 = 50  \n",
    "rho8 = 2.28 * 1000  \n",
    "E8 = 0.14 * 1e11\n",
    "nu8 = 0.06 \n",
    "v_air8 = 343  \n",
    "vp8 = get_vp(E8, nu8, rho8)\n",
    "vs8 = get_vs(E8, nu8, rho8)\n",
    "vr8 = 0.9 * vs8\n",
    "\n",
    "time_air8 = distance8 / v_air8\n",
    "time_pwave8 = distance8 / vp8\n",
    "time_rwave8 = distance8 / vr8\n",
    "\n",
    "time_travel = {\n",
    "\"Time travel for the air wave\" : time_air8, \n",
    "\"Time trael for the direct compressional wave\" : time_pwave8, \n",
    "\"Time travel for the surface (Rayleigh) wave\" : time_rwave8\n",
    "}\n",
    "\n",
    "for key, val in time_travel.items():\n",
    "    print(f\"{key} = {val:.3f} s\")"
   ]
  },
  {
   "cell_type": "code",
   "execution_count": 66,
   "metadata": {},
   "outputs": [
    {
     "data": {
      "image/png": "[encoded data removed]",
      "text/plain": [
       "<Figure size 720x432 with 1 Axes>"
      ]
     },
     "metadata": {
      "needs_background": "light"
     },
     "output_type": "display_data"
    }
   ],
   "source": [
    "# question 9\n",
    "rho9 = 2.62 * 1000  \n",
    "E9 = 0.16 * 1e11  \n",
    "nu9 = 0.29  \n",
    "v_air9 = 343  \n",
    "num_geophones9 = 12\n",
    "interval9 = 10  \n",
    "distances9 = np.array([5 + interval9 * i for i in range(num_geophones9)])\n",
    "\n",
    "vp9 = get_vp(E9, nu9, rho9)\n",
    "vs9 = get_vs(E9, nu9, rho9)\n",
    "vr9 = 0.9 * vs9\n",
    "\n",
    "time_air9 = distances9 / v_air9\n",
    "time_pwave9 = distances9 / vp9\n",
    "time_swave9 = distances9 / vs9\n",
    "time_rwave9 = distances9 / vr9\n",
    "plot_wave_data(distances9, time_air9, time_pwave9, time_swave9, time_rwave9)"
   ]
  },
  {
   "cell_type": "code",
   "execution_count": null,
   "metadata": {},
   "outputs": [],
   "source": []
  },
  {
   "cell_type": "code",
   "execution_count": null,
   "metadata": {},
   "outputs": [],
   "source": []
  }
 ],
 "metadata": {
  "kernelspec": {
   "display_name": "Python 3",
   "language": "python",
   "name": "python3"
  },
  "language_info": {
   "codemirror_mode": {
    "name": "ipython",
    "version": 3
   },
   "file_extension": ".py",
   "mimetype": "text/x-python",
   "name": "python",
   "nbconvert_exporter": "python",
   "pygments_lexer": "ipython3",
   "version": "3.7.3"
  }
 },
 "nbformat": 4,
 "nbformat_minor": 2
}
